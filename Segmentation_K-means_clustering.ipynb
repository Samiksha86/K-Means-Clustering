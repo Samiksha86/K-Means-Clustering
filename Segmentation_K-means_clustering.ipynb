{
 "cells": [
  {
   "cell_type": "code",
   "execution_count": null,
   "metadata": {},
   "outputs": [],
   "source": [
    "# Import libraries\n",
    "\n",
    "import numpy as np\n",
    "import pandas as pd\n",
    "import matplotlib.pyplot as plt\n",
    "import seaborn as sns\n",
    "\n",
    "from sklearn.cluster import KMeans\n",
    "import sklearn.cluster as cluster"
   ]
  },
  {
   "cell_type": "code",
   "execution_count": null,
   "metadata": {},
   "outputs": [],
   "source": [
    "df = pd.read_csv('Mall_Customers.csv')"
   ]
  },
  {
   "cell_type": "code",
   "execution_count": null,
   "metadata": {},
   "outputs": [],
   "source": [
    "df.head()"
   ]
  },
  {
   "cell_type": "markdown",
   "metadata": {},
   "source": [
    "# Data mapping\n"
   ]
  },
  {
   "cell_type": "code",
   "execution_count": null,
   "metadata": {},
   "outputs": [],
   "source": [
    "df_segment = df.copy()"
   ]
  },
  {
   "cell_type": "code",
   "execution_count": null,
   "metadata": {},
   "outputs": [],
   "source": [
    "df_segment['Gender'] = df_segment['Gender'].map({'Male':0, 'Female':1})\n",
    "df_segment"
   ]
  },
  {
   "cell_type": "code",
   "execution_count": null,
   "metadata": {},
   "outputs": [],
   "source": [
    "df.isnull().sum()"
   ]
  },
  {
   "cell_type": "code",
   "execution_count": null,
   "metadata": {},
   "outputs": [],
   "source": [
    "df.describe()"
   ]
  },
  {
   "cell_type": "code",
   "execution_count": null,
   "metadata": {
    "scrolled": true
   },
   "outputs": [],
   "source": [
    "# To find out depencies between variables\n",
    "\n",
    "df_segment.corr()"
   ]
  },
  {
   "cell_type": "markdown",
   "metadata": {},
   "source": [
    "# Visualization"
   ]
  },
  {
   "cell_type": "code",
   "execution_count": null,
   "metadata": {},
   "outputs": [],
   "source": [
    "sns.countplot(df['Gender'])\n",
    "plt.title('Distribution of Gender', fontsize=15)"
   ]
  },
  {
   "cell_type": "markdown",
   "metadata": {},
   "source": [
    "In this data, the number of female customers are more than the male customers."
   ]
  },
  {
   "cell_type": "code",
   "execution_count": null,
   "metadata": {},
   "outputs": [],
   "source": [
    "plt.figure(figsize=(10,6))\n",
    "sns.distplot(df_segment['Age'])\n",
    "plt.title('Distribution of Age ', fontsize=20)\n",
    "plt.xlabel('Range of Customer Age')\n",
    "plt.ylabel('Frequency')\n",
    "plt.show()"
   ]
  },
  {
   "cell_type": "markdown",
   "metadata": {},
   "source": [
    "We observed that, the range of mall customer's age is between 18 yrs and 70 yrs. The average age of target customers is about 30 years."
   ]
  },
  {
   "cell_type": "code",
   "execution_count": null,
   "metadata": {},
   "outputs": [],
   "source": [
    "plt.figure(figsize=(10,6))\n",
    "sns.distplot(df_segment['Annual Income (k$)'])\n",
    "plt.title('Distribution of Annual income ', fontsize=20)\n",
    "plt.xlabel('Income of customers')\n",
    "plt.ylabel('Frequency')\n",
    "plt.show()"
   ]
  },
  {
   "cell_type": "code",
   "execution_count": null,
   "metadata": {},
   "outputs": [],
   "source": [
    "plt.figure(figsize=(10,6))\n",
    "sns.distplot(df_segment['Spending Score (1-100)'])\n",
    "plt.title('Distribution of Spending of income ', fontsize=20)\n",
    "plt.xlabel('Range of Income spend')\n",
    "plt.ylabel('Frequency')\n",
    "plt.show()"
   ]
  },
  {
   "cell_type": "code",
   "execution_count": null,
   "metadata": {},
   "outputs": [],
   "source": [
    "sns.pairplot(df.drop('CustomerID', axis=1), hue='Gender')\n",
    "plt.show()"
   ]
  },
  {
   "cell_type": "markdown",
   "metadata": {},
   "source": [
    "The below scatter plot visualizes, how gender values are distributed with respect to income and its spending. "
   ]
  },
  {
   "cell_type": "code",
   "execution_count": null,
   "metadata": {},
   "outputs": [],
   "source": [
    "plt.figure(figsize=(15,8))\n",
    "sns.scatterplot(df_segment['Annual Income (k$)'], df_segment['Spending Score (1-100)'], hue=df['Gender'],\n",
    "                palette= ['red','green'] ,alpha=0.6)\n",
    "plt.title('Distribution of Gender based on Annual Income and Spending Score', fontsize = 15)\n",
    "plt.xlabel('Annual Income', fontsize = 12)\n",
    "plt.ylabel('Spending Score', fontsize = 12)\n",
    "plt.show()"
   ]
  },
  {
   "cell_type": "markdown",
   "metadata": {},
   "source": [
    "The below scatter plot visualizes, distribution of range of ages of mall customers with respect to income and its spending."
   ]
  },
  {
   "cell_type": "code",
   "execution_count": null,
   "metadata": {},
   "outputs": [],
   "source": [
    "plt.figure(figsize=(15,8))\n",
    "sns.scatterplot(df_segment['Annual Income (k$)'], df_segment['Spending Score (1-100)'], hue=df_segment['Age'], )\n",
    "plt.title('Distribution of Age based on Annual Income and Spending Score', fontsize = 15)\n",
    "plt.xlabel('Annual Income', fontsize = 12)\n",
    "plt.ylabel('Spending Score', fontsize = 12)\n",
    "plt.show()"
   ]
  },
  {
   "cell_type": "markdown",
   "metadata": {},
   "source": [
    "# Analysing annual income and spending score"
   ]
  },
  {
   "cell_type": "code",
   "execution_count": null,
   "metadata": {},
   "outputs": [],
   "source": [
    "#Scatterplot between income and spending score\n",
    "\n",
    "plt.figure(figsize=(15,8))\n",
    "sns.scatterplot(x = 'Annual Income (k$)',y = 'Spending Score (1-100)',  data = df_segment)\n",
    "plt.xlabel('Annual Income (k$)')\n",
    "plt.ylabel('Spending Score (1-100)') \n",
    "plt.title('Spending Score (1-100) vs Annual Income (k$)', fontsize=18)\n",
    "plt.show()"
   ]
  },
  {
   "cell_type": "code",
   "execution_count": null,
   "metadata": {},
   "outputs": [],
   "source": [
    "Income_Spend = df_segment[['Annual Income (k$)' , 'Spending Score (1-100)']].iloc[: , :].values"
   ]
  },
  {
   "cell_type": "code",
   "execution_count": null,
   "metadata": {},
   "outputs": [],
   "source": [
    "# Calculate value of WCSS, to find no of clusters(k)\n",
    "\n",
    "wcss = []\n",
    "for i in range(1, 11):\n",
    "    km = KMeans(n_clusters = i, init = 'k-means++', max_iter = 300, n_init = 10, random_state = 0)\n",
    "    km.fit(Income_Spend)\n",
    "    wcss.append(km.inertia_)"
   ]
  },
  {
   "cell_type": "code",
   "execution_count": null,
   "metadata": {},
   "outputs": [],
   "source": [
    "# Plot elbow curve to determine optimal value of k\n",
    "\n",
    "plt.figure(figsize=(15,8))\n",
    "plt.plot(range(1, 11), wcss)\n",
    "plt.title('The Elbow curve', fontsize=15)\n",
    "plt.xlabel('No. of Clusters')\n",
    "plt.ylabel('wcss')\n",
    "plt.show()   "
   ]
  },
  {
   "cell_type": "markdown",
   "metadata": {},
   "source": [
    "We know that, value of k is 5. As the curve stops decreasing drastically after the value 5. Hence, we have to create total 5 clusters of columns Annual income and Spending score."
   ]
  },
  {
   "cell_type": "code",
   "execution_count": null,
   "metadata": {},
   "outputs": [],
   "source": [
    "km = KMeans(n_clusters = 5, init = 'k-means++', max_iter = 300, n_init = 10, random_state = 0)\n",
    "\n",
    "y_means = km.fit_predict(Income_Spend)"
   ]
  },
  {
   "cell_type": "code",
   "execution_count": null,
   "metadata": {},
   "outputs": [],
   "source": [
    "df_segment['labels'] = km.labels_"
   ]
  },
  {
   "cell_type": "code",
   "execution_count": null,
   "metadata": {},
   "outputs": [],
   "source": [
    "df_segment"
   ]
  },
  {
   "cell_type": "code",
   "execution_count": null,
   "metadata": {},
   "outputs": [],
   "source": [
    "df_segment['labels'].count()"
   ]
  },
  {
   "cell_type": "code",
   "execution_count": null,
   "metadata": {},
   "outputs": [],
   "source": [
    "#Scatterplot of the clusters\n",
    "\n",
    "plt.figure(figsize=(12,8))\n",
    "sns.scatterplot(x = 'Annual Income (k$)',y = 'Spending Score (1-100)', hue=\"labels\",  \n",
    "                palette=['green','orange','brown','blue','red'], legend='full',data = df_segment, s = 60)\n",
    "plt.xlabel('Annual Income (k$)')\n",
    "plt.ylabel('Spending Score (1-100)') \n",
    "plt.title('Spending Score (1-100) vs Annual Income (k$)', fontsize = 18)\n",
    "plt.show()"
   ]
  },
  {
   "cell_type": "code",
   "execution_count": null,
   "metadata": {},
   "outputs": [],
   "source": [
    "# To define centroids of each cluster\n",
    "\n",
    "km.cluster_centers_"
   ]
  },
  {
   "cell_type": "markdown",
   "metadata": {},
   "source": [
    "# Customer Segmentation w.r.t. Income and spending"
   ]
  },
  {
   "cell_type": "code",
   "execution_count": null,
   "metadata": {},
   "outputs": [],
   "source": [
    "plt.figure(figsize=(15,8))\n",
    "plt.scatter(Income_Spend[y_means == 0, 0], Income_Spend[y_means == 0, 1], s = 20, c = 'green', label = 'Average')\n",
    "plt.scatter(Income_Spend[y_means == 1, 0], Income_Spend[y_means == 1, 1], s = 20, c = 'orange', label = 'Spenders')\n",
    "plt.scatter(Income_Spend[y_means == 2, 0], Income_Spend[y_means == 2, 1], s = 20, c = 'brown', label = 'Best')\n",
    "plt.scatter(Income_Spend[y_means == 3, 0], Income_Spend[y_means == 3, 1], s = 20, c = 'blue', label = 'Low Budget')\n",
    "plt.scatter(Income_Spend[y_means == 4, 0], Income_Spend[y_means == 4, 1], s = 20, c = 'red', label = 'Saver')\n",
    "plt.scatter(km.cluster_centers_[:,0], km.cluster_centers_[:, 1], s = 70, c = 'black' , label = 'centeroid')\n",
    "plt.legend()\n",
    "plt.title('Customer Segmentation using Annual Income and Spending Score', fontsize = 20)\n",
    "plt.xlabel('Annual Income', fontsize = 12)\n",
    "plt.ylabel('Spending Score', fontsize = 12)\n",
    "plt.show()"
   ]
  },
  {
   "cell_type": "markdown",
   "metadata": {},
   "source": [
    "# #Histogram method to compare the results"
   ]
  },
  {
   "cell_type": "code",
   "execution_count": null,
   "metadata": {},
   "outputs": [],
   "source": [
    "import scipy.cluster.hierarchy as sch\n",
    "plt.figure(figsize=(10,10))\n",
    "dendrogram = sch.dendrogram(sch.linkage(df_segment, method = 'ward'))\n",
    "plt.title('Dendrogram')\n",
    "plt.xlabel('Customers')\n",
    "plt.ylabel('Euclidean distances')\n",
    "plt.show()"
   ]
  },
  {
   "cell_type": "code",
   "execution_count": null,
   "metadata": {},
   "outputs": [],
   "source": [
    "from sklearn.cluster import AgglomerativeClustering\n",
    "hc = AgglomerativeClustering(n_clusters = 5, affinity = 'euclidean', linkage = 'ward')\n",
    "y_hc = hc.fit_predict(df_segment)"
   ]
  },
  {
   "cell_type": "code",
   "execution_count": null,
   "metadata": {},
   "outputs": [],
   "source": [
    "# Visualising the clusters\n",
    "\n",
    "plt.figure(figsize=(15,8))\n",
    "plt.scatter(Income_Spend[y_hc == 0, 0], Income_Spend[y_hc == 0, 1], s = 40, c = 'red', label = 'Average Customers')\n",
    "plt.scatter(Income_Spend[y_hc == 1, 0], Income_Spend[y_hc == 1, 1], s = 40, c = 'blue', label = 'Spenders Customers')\n",
    "plt.scatter(Income_Spend[y_hc == 2, 0], Income_Spend[y_hc == 2, 1], s = 40, c = 'green', label = 'Best Customers')\n",
    "plt.scatter(Income_Spend[y_hc == 3, 0], Income_Spend[y_hc == 3, 1], s = 40, c = 'cyan', label = 'Low budget Customers')\n",
    "plt.scatter(Income_Spend[y_hc == 4, 0], Income_Spend[y_hc == 4, 1], s = 40, c = 'magenta', label = 'Saver Customers')\n",
    "plt.title('Segmentation of customers data using Hierarchical Clustering')\n",
    "plt.xlabel('Annual Income (K$)')\n",
    "plt.ylabel('Spending Score (1-100)')\n",
    "plt.legend()\n",
    "plt.show()"
   ]
  },
  {
   "cell_type": "code",
   "execution_count": null,
   "metadata": {},
   "outputs": [],
   "source": []
  }
 ],
 "metadata": {
  "kernelspec": {
   "display_name": "Python 3",
   "language": "python",
   "name": "python3"
  },
  "language_info": {
   "codemirror_mode": {
    "name": "ipython",
    "version": 3
   },
   "file_extension": ".py",
   "mimetype": "text/x-python",
   "name": "python",
   "nbconvert_exporter": "python",
   "pygments_lexer": "ipython3",
   "version": "3.7.4"
  }
 },
 "nbformat": 4,
 "nbformat_minor": 2
}
